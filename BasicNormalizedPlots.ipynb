{
 "cells": [
  {
   "cell_type": "code",
   "execution_count": null,
   "id": "81f54dc7",
   "metadata": {},
   "outputs": [],
   "source": [
    "import os\n",
    "import numpy as np\n",
    "import matplotlib.pyplot as plt\n",
    "import cv2\n",
    "from matplotlib.cm import ScalarMappable\n",
    "from matplotlib.colors import Normalize\n",
    "\n",
    "# Define the base directory\n",
    "base_dir = r\"C:\\Users\\vaide\\MITResearchWork\\01032025_Gynepath_G2D51-20250624T155222Z-1-001\"\n",
    "\n",
    "# MRI data\n",
    "mri_data = [\n",
    "    {'Mouse': '3X', 'Uterus_Volume': 92600, 'Cyst_Volume': 4175, 'Cysts_to_Uterus': 4.51, 'LN_Volume': 6.90},\n",
    "    {'Mouse': '3R', 'Uterus_Volume': 185800, 'Cyst_Volume': 36490, 'Cysts_to_Uterus': 19.64, 'LN_Volume': 3.54},\n",
    "    {'Mouse': '3L', 'Uterus_Volume': 337200, 'Cyst_Volume': 103700, 'Cysts_to_Uterus': 30.75, 'LN_Volume': 3.05},\n",
    "    {'Mouse': '3RR', 'Uterus_Volume': 128300, 'Cyst_Volume': 5762, 'Cysts_to_Uterus': 4.49, 'LN_Volume': 4.58},\n",
    "    {'Mouse': '4R', 'Uterus_Volume': 91940, 'Cyst_Volume': 3735, 'Cysts_to_Uterus': 4.06, 'LN_Volume': 13.82},\n",
    "    {'Mouse': '4L', 'Uterus_Volume': 95500, 'Cyst_Volume': 5212, 'Cysts_to_Uterus': 5.46, 'LN_Volume': 11.89},\n",
    "    {'Mouse': '4RR', 'Uterus_Volume': 137200, 'Cyst_Volume': 31300, 'Cysts_to_Uterus': 22.81, 'LN_Volume': 9.25},\n",
    "    {'Mouse': '4RL', 'Uterus_Volume': 75040, 'Cyst_Volume': 500, 'Cysts_to_Uterus': 0.67, 'LN_Volume': 10.08},\n",
    "]\n",
    "\n",
    "# Define subfolders\n",
    "folders = [\n",
    "    'GP20250103105329',  # Front, 3X, 3R, 3L, 3RR\n",
    "    'GP20250103105531',  # Back, 3X, 3R, 3L, 3RR\n",
    "    'GP20250103111346',  # Front, 4R, 4L, 4RR, 4RL\n",
    "    'GP20250103111544'      # Back, 4R, 4L, 4RR, 4RL\n",
    "]\n",
    "\n",
    "\n",
    "# Order of mice in each image\n",
    "mouse_order = [\n",
    "    ['3X', '3R', '3L', '3RR'],\n",
    "    ['3X', '3R', '3L', '3RR'],\n",
    "    ['4R', '4L', '4RR', '4RL'],\n",
    "    ['4R', '4L', '4RR', '4RL']\n",
    "]\n",
    "\n"
   ]
  },
  {
   "cell_type": "code",
   "execution_count": 2,
   "id": "836caf67",
   "metadata": {},
   "outputs": [],
   "source": [
    "# Normalize utility\n",
    "def normalize_image(im):\n",
    "    return (im - np.min(im)) / (np.max(im) - np.min(im))\n",
    "\n",
    "# Initialize luminescence per mouse\n",
    "mouse_lumin = {mouse['Mouse']: 0 for mouse in mri_data}"
   ]
  },
  {
   "cell_type": "code",
   "execution_count": 4,
   "id": "892eebb6",
   "metadata": {},
   "outputs": [
    {
     "name": "stdout",
     "output_type": "stream",
     "text": [
      "Folder missing: C:\\Users\\vaide\\MITResearchWork\\01032025_Gynepath_G2D51-20250624T155222Z-1-001\\GP20250103111\n"
     ]
    }
   ],
   "source": [
    "# Collect luminescence from each folder\n",
    "for folder in folders:\n",
    "    full_path = os.path.join(base_dir, folder)\n",
    "    if not os.path.isdir(full_path):\n",
    "        print(f\"Folder missing: {full_path}\")\n",
    "        continue\n",
    "\n",
    "    for file in os.listdir(full_path):\n",
    "        if file.lower().endswith('luminescent.tif'):\n",
    "            parts = file.split('_')\n",
    "            for mouse_id in mouse_lumin:\n",
    "                if mouse_id in file:\n",
    "                    img_path = os.path.join(full_path, file)\n",
    "                    im = cv2.imread(img_path, -1).astype(np.float32)\n",
    "                    mouse_lumin[mouse_id] += np.sum(normalize_image(im))\n",
    "                    break"
   ]
  },
  {
   "cell_type": "code",
   "execution_count": 5,
   "id": "7aa74ba5",
   "metadata": {},
   "outputs": [
    {
     "name": "stdout",
     "output_type": "stream",
     "text": [
      "[Warning] No IVIS data found for 3X\n",
      "[Warning] No IVIS data found for 3R\n",
      "[Warning] No IVIS data found for 3L\n",
      "[Warning] No IVIS data found for 3RR\n",
      "[Warning] No IVIS data found for 4R\n",
      "[Warning] No IVIS data found for 4L\n",
      "[Warning] No IVIS data found for 4RR\n",
      "[Warning] No IVIS data found for 4RL\n"
     ]
    }
   ],
   "source": [
    "# Attach luminescence data to MRI entries\n",
    "for mouse in mri_data:\n",
    "    lum = mouse_lumin.get(mouse['Mouse'], None)\n",
    "    if lum == 0:\n",
    "        print(f\"[Warning] No IVIS data found for {mouse['Mouse']}\")\n",
    "        mouse['Luminescence_Sum'] = None\n",
    "    else:\n",
    "        mouse['Luminescence_Sum'] = lum"
   ]
  },
  {
   "cell_type": "code",
   "execution_count": 16,
   "id": "8dadc159",
   "metadata": {},
   "outputs": [
    {
     "ename": "TypeError",
     "evalue": "expected non-empty vector for x",
     "output_type": "error",
     "traceback": [
      "\u001b[31m---------------------------------------------------------------------------\u001b[39m",
      "\u001b[31mTypeError\u001b[39m                                 Traceback (most recent call last)",
      "\u001b[36mCell\u001b[39m\u001b[36m \u001b[39m\u001b[32mIn[16]\u001b[39m\u001b[32m, line 7\u001b[39m\n\u001b[32m      4\u001b[39m y = np.array([m[\u001b[33m'\u001b[39m\u001b[33mLuminescence_Sum\u001b[39m\u001b[33m'\u001b[39m] \u001b[38;5;28;01mfor\u001b[39;00m m \u001b[38;5;129;01min\u001b[39;00m mice_with_data])\n\u001b[32m      6\u001b[39m \u001b[38;5;66;03m# Fit\u001b[39;00m\n\u001b[32m----> \u001b[39m\u001b[32m7\u001b[39m slope, intercept = \u001b[43mnp\u001b[49m\u001b[43m.\u001b[49m\u001b[43mpolyfit\u001b[49m\u001b[43m(\u001b[49m\u001b[43mx\u001b[49m\u001b[43m,\u001b[49m\u001b[43m \u001b[49m\u001b[43my\u001b[49m\u001b[43m,\u001b[49m\u001b[43m \u001b[49m\u001b[32;43m1\u001b[39;49m\u001b[43m)\u001b[49m\n\u001b[32m      8\u001b[39m x_fit = np.linspace(\u001b[38;5;28mmin\u001b[39m(x), \u001b[38;5;28mmax\u001b[39m(x), \u001b[32m100\u001b[39m)\n\u001b[32m      9\u001b[39m y_fit = slope * x_fit + intercept\n",
      "\u001b[36mFile \u001b[39m\u001b[32mc:\\Users\\vaide\\AppData\\Local\\Programs\\Python\\Python313\\Lib\\site-packages\\numpy\\lib\\_polynomial_impl.py:645\u001b[39m, in \u001b[36mpolyfit\u001b[39m\u001b[34m(x, y, deg, rcond, full, w, cov)\u001b[39m\n\u001b[32m    643\u001b[39m     \u001b[38;5;28;01mraise\u001b[39;00m \u001b[38;5;167;01mTypeError\u001b[39;00m(\u001b[33m\"\u001b[39m\u001b[33mexpected 1D vector for x\u001b[39m\u001b[33m\"\u001b[39m)\n\u001b[32m    644\u001b[39m \u001b[38;5;28;01mif\u001b[39;00m x.size == \u001b[32m0\u001b[39m:\n\u001b[32m--> \u001b[39m\u001b[32m645\u001b[39m     \u001b[38;5;28;01mraise\u001b[39;00m \u001b[38;5;167;01mTypeError\u001b[39;00m(\u001b[33m\"\u001b[39m\u001b[33mexpected non-empty vector for x\u001b[39m\u001b[33m\"\u001b[39m)\n\u001b[32m    646\u001b[39m \u001b[38;5;28;01mif\u001b[39;00m y.ndim < \u001b[32m1\u001b[39m \u001b[38;5;129;01mor\u001b[39;00m y.ndim > \u001b[32m2\u001b[39m:\n\u001b[32m    647\u001b[39m     \u001b[38;5;28;01mraise\u001b[39;00m \u001b[38;5;167;01mTypeError\u001b[39;00m(\u001b[33m\"\u001b[39m\u001b[33mexpected 1D or 2D array for y\u001b[39m\u001b[33m\"\u001b[39m)\n",
      "\u001b[31mTypeError\u001b[39m: expected non-empty vector for x"
     ]
    }
   ],
   "source": [
    "# Plotting\n",
    "mice_with_data = [m for m in mri_data if m['Luminescence_Sum'] is not None]\n",
    "x = np.array([m['Cysts_to_Uterus'] for m in mice_with_data])\n",
    "y = np.array([m['Luminescence_Sum'] for m in mice_with_data])\n",
    "\n",
    "# Fit\n",
    "slope, intercept = np.polyfit(x, y, 1)\n",
    "x_fit = np.linspace(min(x), max(x), 100)\n",
    "y_fit = slope * x_fit + intercept\n",
    "\n",
    "# Plot\n",
    "plt.figure(figsize=(8, 6))\n",
    "sc = plt.scatter(x, y, c=x, cmap='viridis', s=120, edgecolor='black')\n",
    "plt.plot(x_fit, y_fit, '--', color='gray', linewidth=3, alpha=0.6, label='Linear Fit')\n",
    "\n",
    "plt.xlabel('Cyst Volume / Uterus Volume [%]', fontsize=14)\n",
    "plt.ylabel('Normalized Luminescence Sum', fontsize=14)\n",
    "plt.title('MRI vs. IVIS Luminescence', fontsize=16)\n",
    "plt.colorbar(ScalarMappable(norm=Normalize(vmin=min(x), vmax=max(x)), cmap='viridis'),\n",
    "             label='Cyst/Uterus Ratio [%]')\n",
    "plt.grid(True)\n",
    "plt.tight_layout()\n",
    "plt.show()"
   ]
  },
  {
   "cell_type": "code",
   "execution_count": null,
   "id": "4b919b5b",
   "metadata": {},
   "outputs": [],
   "source": []
  }
 ],
 "metadata": {
  "kernelspec": {
   "display_name": "Python 3",
   "language": "python",
   "name": "python3"
  },
  "language_info": {
   "codemirror_mode": {
    "name": "ipython",
    "version": 3
   },
   "file_extension": ".py",
   "mimetype": "text/x-python",
   "name": "python",
   "nbconvert_exporter": "python",
   "pygments_lexer": "ipython3",
   "version": "3.13.0"
  }
 },
 "nbformat": 4,
 "nbformat_minor": 5
}
