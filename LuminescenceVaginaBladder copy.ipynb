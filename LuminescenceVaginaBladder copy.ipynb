{
 "cells": [
  {
   "cell_type": "code",
   "execution_count": 1,
   "metadata": {},
   "outputs": [
    {
     "name": "stdout",
     "output_type": "stream",
     "text": [
      "Requirement already satisfied: seaborn in c:\\users\\vaide\\anaconda3\\envs\\myenv\\lib\\site-packages (0.13.2)\n",
      "Requirement already satisfied: numpy!=1.24.0,>=1.20 in c:\\users\\vaide\\anaconda3\\envs\\myenv\\lib\\site-packages (from seaborn) (2.0.1)\n",
      "Requirement already satisfied: pandas>=1.2 in c:\\users\\vaide\\anaconda3\\envs\\myenv\\lib\\site-packages (from seaborn) (2.3.2)\n",
      "Requirement already satisfied: matplotlib!=3.6.1,>=3.4 in c:\\users\\vaide\\anaconda3\\envs\\myenv\\lib\\site-packages (from seaborn) (3.10.5)\n",
      "Requirement already satisfied: contourpy>=1.0.1 in c:\\users\\vaide\\anaconda3\\envs\\myenv\\lib\\site-packages (from matplotlib!=3.6.1,>=3.4->seaborn) (1.3.1)\n",
      "Requirement already satisfied: cycler>=0.10 in c:\\users\\vaide\\anaconda3\\envs\\myenv\\lib\\site-packages (from matplotlib!=3.6.1,>=3.4->seaborn) (0.11.0)\n",
      "Requirement already satisfied: fonttools>=4.22.0 in c:\\users\\vaide\\anaconda3\\envs\\myenv\\lib\\site-packages (from matplotlib!=3.6.1,>=3.4->seaborn) (4.55.3)\n",
      "Requirement already satisfied: kiwisolver>=1.3.1 in c:\\users\\vaide\\anaconda3\\envs\\myenv\\lib\\site-packages (from matplotlib!=3.6.1,>=3.4->seaborn) (1.4.8)\n",
      "Requirement already satisfied: packaging>=20.0 in c:\\users\\vaide\\anaconda3\\envs\\myenv\\lib\\site-packages (from matplotlib!=3.6.1,>=3.4->seaborn) (25.0)\n",
      "Requirement already satisfied: pillow>=8 in c:\\users\\vaide\\anaconda3\\envs\\myenv\\lib\\site-packages (from matplotlib!=3.6.1,>=3.4->seaborn) (11.1.0)\n",
      "Requirement already satisfied: pyparsing>=2.3.1 in c:\\users\\vaide\\anaconda3\\envs\\myenv\\lib\\site-packages (from matplotlib!=3.6.1,>=3.4->seaborn) (3.2.0)\n",
      "Requirement already satisfied: python-dateutil>=2.7 in c:\\users\\vaide\\anaconda3\\envs\\myenv\\lib\\site-packages (from matplotlib!=3.6.1,>=3.4->seaborn) (2.9.0.post0)\n",
      "Requirement already satisfied: pytz>=2020.1 in c:\\users\\vaide\\anaconda3\\envs\\myenv\\lib\\site-packages (from pandas>=1.2->seaborn) (2025.2)\n",
      "Requirement already satisfied: tzdata>=2022.7 in c:\\users\\vaide\\anaconda3\\envs\\myenv\\lib\\site-packages (from pandas>=1.2->seaborn) (2025.2)\n",
      "Requirement already satisfied: six>=1.5 in c:\\users\\vaide\\anaconda3\\envs\\myenv\\lib\\site-packages (from python-dateutil>=2.7->matplotlib!=3.6.1,>=3.4->seaborn) (1.17.0)\n",
      "Note: you may need to restart the kernel to use updated packages.\n"
     ]
    }
   ],
   "source": [
    "%pip install seaborn\n",
    "import os\n",
    "import cv2\n",
    "import numpy as np\n",
    "import pandas as pd\n",
    "from datetime import datetime\n",
    "import matplotlib.pyplot as plt\n",
    "import seaborn as sns"
   ]
  },
  {
   "cell_type": "code",
   "execution_count": 2,
   "metadata": {},
   "outputs": [],
   "source": [
    "\n",
    "# --------------------------\n",
    "# Base paths\n",
    "# --------------------------\n",
    "BASE_DIR = r\"C:\\Users\\vaide\\MITResearchWork\\G1\\G1\"\n",
    "INFECTED = \"GL20241212195023\"\n",
    "UNINFECTED = \"GL20241212193213\"\n",
    "\n",
    "PLOTS_DIR = os.path.join(BASE_DIR, \"plots\")\n",
    "os.makedirs(PLOTS_DIR, exist_ok=True)\n",
    "\n",
    "# --------------------------\n",
    "# Spreadsheet values\n",
    "# --------------------------\n",
    "spreadsheet_values = {\n",
    "    UNINFECTED: [\n",
    "        {\"MouseID\": \"1X\", \"Uterus total volume\": 118700, \"Uterus cyst total volume\": 14270,\n",
    "         \"Cysts/Uterus Percent Volume\": 12.02, \"ParaAo LN\": 4.04},\n",
    "        {\"MouseID\": \"1R\", \"Uterus total volume\": 148300, \"Uterus cyst total volume\": 23830,\n",
    "         \"Cysts/Uterus Percent Volume\": 16.07, \"ParaAo LN\": 4.94},\n",
    "        {\"MouseID\": \"1L\", \"Uterus total volume\": 82470, \"Uterus cyst total volume\": 6604,\n",
    "         \"Cysts/Uterus Percent Volume\": 8.01, \"ParaAo LN\": 2.06},\n",
    "        {\"MouseID\": \"1RL\", \"Uterus total volume\": 116100, \"Uterus cyst total volume\": 35840,\n",
    "         \"Cysts/Uterus Percent Volume\": 30.87, \"ParaAo LN\": 2.93},\n",
    "    ],\n",
    "    INFECTED: [\n",
    "        {\"MouseID\": \"2X\", \"Uterus total volume\": 122.2, \"Uterus cyst total volume\": 23.25,\n",
    "         \"Cysts/Uterus Percent Volume\": 19.03, \"ParaAo LN\": 8.48},\n",
    "        {\"MouseID\": \"2R\", \"Uterus total volume\": 159.4, \"Uterus cyst total volume\": 40.33,\n",
    "         \"Cysts/Uterus Percent Volume\": 25.30, \"ParaAo LN\": 12.83},\n",
    "        {\"MouseID\": \"2L\", \"Uterus total volume\": 139.4, \"Uterus cyst total volume\": 24.91,\n",
    "         \"Cysts/Uterus Percent Volume\": 17.87, \"ParaAo LN\": 8.86},\n",
    "        {\"MouseID\": \"2RR\", \"Uterus total volume\": 193.9, \"Uterus cyst total volume\": 64.75,\n",
    "         \"Cysts/Uterus Percent Volume\": 33.39, \"ParaAo LN\": 8.00},\n",
    "        {\"MouseID\": \"2RL\", \"Uterus total volume\": 226, \"Uterus cyst total volume\": 67.43,\n",
    "         \"Cysts/Uterus Percent Volume\": 29.84, \"ParaAo LN\": 13.93},\n",
    "    ]\n",
    "}\n"
   ]
  },
  {
   "cell_type": "code",
   "execution_count": 3,
   "metadata": {},
   "outputs": [],
   "source": [
    "\n",
    "# --------------------------\n",
    "# Measure flux with masks\n",
    "# --------------------------\n",
    "def measure_flux_from_mask(lum_path, mask_path, n_expected):\n",
    "    lum = cv2.imread(lum_path, cv2.IMREAD_GRAYSCALE)\n",
    "    mask_img = cv2.imread(mask_path)\n",
    "\n",
    "    if lum is None:\n",
    "        raise FileNotFoundError(f\"Could not load luminescent image: {lum_path}\")\n",
    "    if mask_img is None:\n",
    "        raise FileNotFoundError(f\"Could not load mask image: {mask_path}\")\n",
    "\n",
    "    # Detect blue outlines (your drawn boxes)\n",
    "    lower_blue = np.array([100, 0, 0])   # BGR\n",
    "    upper_blue = np.array([255, 80, 80])\n",
    "    mask = cv2.inRange(mask_img, lower_blue, upper_blue)\n",
    "\n",
    "    # Find contours\n",
    "    contours, _ = cv2.findContours(mask, cv2.RETR_EXTERNAL, cv2.CHAIN_APPROX_SIMPLE)\n",
    "\n",
    "    fluxes = []\n",
    "    for cnt in contours:\n",
    "        x, y, w, h = cv2.boundingRect(cnt)\n",
    "        roi = lum[y:y+h, x:x+w]\n",
    "        fluxes.append(np.sum(roi))\n",
    "\n",
    "    fluxes = sorted(fluxes, reverse=True)\n",
    "    if len(fluxes) < n_expected:\n",
    "        print(f\"[Warning] Found {len(fluxes)} boxes, expected {n_expected}\")\n",
    "    return fluxes[:n_expected]\n"
   ]
  },
  {
   "cell_type": "code",
   "execution_count": 4,
   "metadata": {},
   "outputs": [
    {
     "name": "stdout",
     "output_type": "stream",
     "text": [
      "\n",
      "✅ Results saved to C:\\Users\\vaide\\MITResearchWork\\G1\\G1\\plots\\flux_results_20250914183604.csv\n",
      "  MouseID  Uterus total volume  Uterus cyst total volume  \\\n",
      "0      1X             118700.0                  14270.00   \n",
      "1      1R             148300.0                  23830.00   \n",
      "2      1L              82470.0                   6604.00   \n",
      "3     1RL             116100.0                  35840.00   \n",
      "4      2X                122.2                     23.25   \n",
      "5      2R                159.4                     40.33   \n",
      "6      2L                139.4                     24.91   \n",
      "7     2RR                193.9                     64.75   \n",
      "8     2RL                226.0                     67.43   \n",
      "\n",
      "   Cysts/Uterus Percent Volume  ParaAo LN  Flux       Group  \n",
      "0                        12.02       4.04    41  Uninfected  \n",
      "1                        16.07       4.94    13  Uninfected  \n",
      "2                         8.01       2.06     9  Uninfected  \n",
      "3                        30.87       2.93     9  Uninfected  \n",
      "4                        19.03       8.48   252    Infected  \n",
      "5                        25.30      12.83     9    Infected  \n",
      "6                        17.87       8.86     4    Infected  \n",
      "7                        33.39       8.00     4    Infected  \n",
      "8                        29.84      13.93     3    Infected  \n"
     ]
    }
   ],
   "source": [
    "\n",
    "# --------------------------\n",
    "# Main\n",
    "# --------------------------\n",
    "if __name__ == \"__main__\":\n",
    "    results = []\n",
    "\n",
    "    for folder, mice in [(UNINFECTED, spreadsheet_values[UNINFECTED]),\n",
    "                         (INFECTED, spreadsheet_values[INFECTED])]:\n",
    "\n",
    "        lum_path = os.path.join(BASE_DIR, folder, \"luminescent.TIF\")\n",
    "        mask_path = os.path.join(BASE_DIR, folder, \"image1.PNG\")\n",
    "\n",
    "        fluxes = measure_flux_from_mask(lum_path, mask_path, len(mice))\n",
    "\n",
    "        for mouse, flux in zip(mice, fluxes):\n",
    "            row = mouse.copy()\n",
    "            row[\"Flux\"] = flux\n",
    "            row[\"Group\"] = \"Infected\" if folder == INFECTED else \"Uninfected\"\n",
    "            results.append(row)\n",
    "\n",
    "    df = pd.DataFrame(results)\n",
    "    ts = datetime.now().strftime(\"%Y%m%d%H%M%S\")\n",
    "    out_csv = os.path.join(PLOTS_DIR, f\"flux_results_{ts}.csv\")\n",
    "    df.to_csv(out_csv, index=False)\n",
    "\n",
    "    print(f\"\\n✅ Results saved to {out_csv}\")\n",
    "    print(df)"
   ]
  },
  {
   "cell_type": "code",
   "execution_count": 5,
   "metadata": {},
   "outputs": [
    {
     "name": "stdout",
     "output_type": "stream",
     "text": [
      "📊 Plots saved:\n",
      "- C:\\Users\\vaide\\MITResearchWork\\G1\\G1\\plots\\flux_vs_cyst_20250914183604.png\n",
      "- C:\\Users\\vaide\\MITResearchWork\\G1\\G1\\plots\\flux_vs_ln_20250914183604.png\n"
     ]
    }
   ],
   "source": [
    "    # --------------------------\n",
    "    # Plots\n",
    "    # --------------------------\n",
    "    sns.set(style=\"whitegrid\")\n",
    "\n",
    "    # Flux vs Cysts/Uterus Percent Volume\n",
    "    plt.figure(figsize=(6,5))\n",
    "    sns.scatterplot(data=df, x=\"Cysts/Uterus Percent Volume\", y=\"Flux\", hue=\"Group\", s=100)\n",
    "    sns.regplot(data=df, x=\"Cysts/Uterus Percent Volume\", y=\"Flux\", scatter=False, color=\"black\")\n",
    "    plt.title(\"Flux vs Cysts/Uterus % Volume\")\n",
    "    flux_vs_cyst_path = os.path.join(PLOTS_DIR, f\"flux_vs_cyst_{ts}.png\")\n",
    "    plt.savefig(flux_vs_cyst_path, dpi=300, bbox_inches=\"tight\")\n",
    "    plt.close()\n",
    "\n",
    "    # Flux vs ParaAo LN\n",
    "    plt.figure(figsize=(6,5))\n",
    "    sns.scatterplot(data=df, x=\"ParaAo LN\", y=\"Flux\", hue=\"Group\", s=100)\n",
    "    sns.regplot(data=df, x=\"ParaAo LN\", y=\"Flux\", scatter=False, color=\"black\")\n",
    "    plt.title(\"Flux vs ParaAo LN\")\n",
    "    flux_vs_ln_path = os.path.join(PLOTS_DIR, f\"flux_vs_ln_{ts}.png\")\n",
    "    plt.savefig(flux_vs_ln_path, dpi=300, bbox_inches=\"tight\")\n",
    "    plt.close()\n",
    "\n",
    "    print(f\"📊 Plots saved:\\n- {flux_vs_cyst_path}\\n- {flux_vs_ln_path}\")\n"
   ]
  }
 ],
 "metadata": {
  "kernelspec": {
   "display_name": "myenv",
   "language": "python",
   "name": "python3"
  },
  "language_info": {
   "codemirror_mode": {
    "name": "ipython",
    "version": 3
   },
   "file_extension": ".py",
   "mimetype": "text/x-python",
   "name": "python",
   "nbconvert_exporter": "python",
   "pygments_lexer": "ipython3",
   "version": "3.12.11"
  }
 },
 "nbformat": 4,
 "nbformat_minor": 2
}
